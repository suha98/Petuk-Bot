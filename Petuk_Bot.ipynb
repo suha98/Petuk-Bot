{
  "nbformat": 4,
  "nbformat_minor": 0,
  "metadata": {
    "colab": {
      "name": "Petuk_Bot.ipynb",
      "provenance": [],
      "collapsed_sections": [],
      "authorship_tag": "ABX9TyPY276Q7nkJFZLtOKHBp5Qb",
      "include_colab_link": true
    },
    "kernelspec": {
      "name": "python3",
      "display_name": "Python 3"
    }
  },
  "cells": [
    {
      "cell_type": "markdown",
      "metadata": {
        "id": "view-in-github",
        "colab_type": "text"
      },
      "source": [
        "<a href=\"https://colab.research.google.com/github/suha98/Petuk-Bot/blob/main/Petuk_Bot.ipynb\" target=\"_parent\"><img src=\"https://colab.research.google.com/assets/colab-badge.svg\" alt=\"Open In Colab\"/></a>"
      ]
    },
    {
      "cell_type": "code",
      "metadata": {
        "id": "nrdIgKfJirnz"
      },
      "source": [
        "import regex as re\n",
        "import sys\n",
        "import random"
      ],
      "execution_count": 1,
      "outputs": []
    },
    {
      "cell_type": "code",
      "metadata": {
        "id": "do892OjMl-V3"
      },
      "source": [
        "reg1 = r'^((good)? ?bye)|\\b((good)? ?bye)\\b|quit|end|stop'\n",
        "reg2 = r'.*(good morning)|^(hi|hello|hey|yo)\\b.* |\\b(hi|hello|hey|yo)\\b.*'\n",
        "reg3 = r'(\\b|^)(pizzas?|burgers?|dumplings?|biryani|chinese|steak)\\b'\n",
        "reg4 = r'don\\'?t|(^|\\b)no\\b'\n",
        "reg5 = r'(\\b|^)thank( you)?\\b'"
      ],
      "execution_count": 2,
      "outputs": []
    },
    {
      "cell_type": "code",
      "metadata": {
        "id": "p9f8kh1jQBNp"
      },
      "source": [
        "greeting = ['Hello!', 'Hi!', 'Heyyyy you\\'re here!', 'Hello to you too!', 'Hi! What would you like to eat today?', 'Hi you!']\n",
        "help = ['You\\'re a very interesting person!', 'Could you maybe tell me a bit more?', 'It feels great talking to you! Are you in the mood for some food?', 'That shounds great! Can I interest you in some food?']\n",
        "pizza = ['Cheez is the best pizza place in Dhaka! They have a wide selection of thin, gourmet Italian pizzas for you to choose from. Facebook Page: https://www.facebook.com/cheezbd/ ', 'Dominoes has delicious pizzas at an affordable price! They\\'re menu starts from just 300tk. Facebook Page: https://www.facebook.com/dominospizzabn ',\n",
        "         'Have you been to Pizza Inn? They\\'re spicy chicken pizzas are to die for! Facebook Page: https://www.facebook.com/pizzainnbangladesh ']\n",
        "burger = ['Fatty Bun has delicious gourmet burgers! The shop is located in Dhanmondi and offers generous portions of meat and fries at an affordable price. Facebook Page: https://www.facebook.com/thefattybun ', 'When it comes to burgers Takeout rarely disappoints. Try their classic Twister for an explosion of beef and cheese. Facebook Page: https://www.facebook.com/bdtakeout ',\n",
        "          'Have you tried Chillox! They\\'re spicy sauce and cheesy chicken burgers taste great! Facebook Page: https://www.facebook.com/chillox.burgers', 'If money isn\\'t an object, then step inside Farmhouse and taste the most premium burger in all of Dhaka. Facebook Page: https://www.facebook.com/farmhouseburger ']\n",
        "dumplings = ['Yum Cha District is the place to go to for some delicious steamed/fried dumplings! Their Chinese cuisine has everything from noodles to calamari. Take a look at their menu here: https://www.facebook.com/YumChaDistrict ' , 'Dumplings of Fury is without a doubt the best option for dumplings in Dhaka. For the time being, they only for home-delivery. Menu at: https://www.facebook.com/dofdhk']\n",
        "steak = ['Have you tried the juicy steak at Woodhouse Grill? You\\'ll fall in love with them forever! Facebook Page: https://www.facebook.com/WoodhouseGrillBD', 'Steakout in Banani offers delicious steak! Facebook Page: https://www.facebook.com/steakoutbd ']\n",
        "biryani = ['For classic kacchi biryani, Kolkata Kacchi Ghor in Dhanmondu is definitely the place to go to. Facebook Page: https://www.facebook.com/kolkata.kacchi.ghor ', 'Have you tried the kacchi served at Sultan\\'s Dine? It tastes great! Facebook Page: https://www.facebook.com/dinelikeasultan ']\n"
      ],
      "execution_count": 3,
      "outputs": []
    },
    {
      "cell_type": "code",
      "metadata": {
        "id": "49KfRqzX3Yzn"
      },
      "source": [
        "def quit():\n",
        "  print('Petuk: Happy eating! \\n')"
      ],
      "execution_count": 4,
      "outputs": []
    },
    {
      "cell_type": "code",
      "metadata": {
        "id": "4FQXxnImZ830"
      },
      "source": [
        "def talk():\n",
        "  text = input('You: ')\n",
        "  print()\n",
        "  response(text)"
      ],
      "execution_count": 5,
      "outputs": []
    },
    {
      "cell_type": "code",
      "metadata": {
        "id": "c2WnwR-pdmuL"
      },
      "source": [
        "def response(reply):\n",
        "  reply = reply.lower()\n",
        "  bye = re.search(reg1, reply)\n",
        "  hi = re.search(reg2, reply)\n",
        "  negative = re.search(reg4, reply)\n",
        "  thanks = re.search(reg5, reply)\n",
        "  suggest = re.search(reg3, reply)\n",
        "  if bye:\n",
        "    quit()\n",
        "  elif hi:\n",
        "    print('Petuk:', random.choice(greeting), '\\n')\n",
        "    talk()\n",
        "  elif negative:\n",
        "    print('Petuk: I see. Is there something else I can do for you? If you\\'re craving any delicious food, tell me the name and I\\'ll suggest a great restaurant for you. \\n')\n",
        "    talk()\n",
        "  elif suggest:\n",
        "    if suggest.group() == 'pizza' or suggest.group() == 'pizzas':\n",
        "      print('Petuk:', random.choice(pizza), '\\n')\n",
        "      talk()\n",
        "    elif suggest.group() == 'burger' or suggest.group() == 'burgers':\n",
        "      print('Petuk:', random.choice(burger), '\\n')\n",
        "      talk()\n",
        "    elif suggest.group() == 'dumpling' or suggest.group() == 'dumplings':\n",
        "      print('Petuk:', random.choice(dumplings), '\\n')\n",
        "      talk()\n",
        "    elif suggest.group() == 'biryani':\n",
        "      print('Petuk:', random.choice(biryani), '\\n')\n",
        "      talk()\n",
        "    elif suggest.group() == 'steak':\n",
        "      print('Petuk:', random.choice(steak), '\\n')\n",
        "      talk()\n",
        "    elif suggest.group() == 'chinese':\n",
        "      print('Petuk:', dumplings[0], '\\n')\n",
        "      talk()\n",
        "  elif thanks:\n",
        "    print('Petuk: You\\'re very welcome! \\n')\n",
        "    talk()\n",
        "  else:\n",
        "    print('Petuk:', random.choice(help),'\\n')\n",
        "    talk()"
      ],
      "execution_count": 6,
      "outputs": []
    },
    {
      "cell_type": "code",
      "metadata": {
        "id": "m6xUC0xIg_O_"
      },
      "source": [
        "def main():\n",
        "  print(\"Petuk: Hi! My name is Petuk. I like to talk about food :) \\n\")\n",
        "  print(\"Petuk: Tell me what you're craving! I can suggest the best restaurants for you in Dhaka. \\n\")\n",
        "  talk()"
      ],
      "execution_count": 7,
      "outputs": []
    },
    {
      "cell_type": "code",
      "metadata": {
        "id": "8JMNWtsjiXz5",
        "colab": {
          "base_uri": "https://localhost:8080/"
        },
        "outputId": "2a6207d9-c453-4202-df95-0a24f4ab64c8"
      },
      "source": [
        "main()"
      ],
      "execution_count": 8,
      "outputs": [
        {
          "output_type": "stream",
          "name": "stdout",
          "text": [
            "Petuk: Hi! My name is Petuk. I like to talk about food :) \n",
            "\n",
            "Petuk: Tell me what you're craving! I can suggest the best restaurants for you in Dhaka. \n",
            "\n",
            "You: Hi!\n",
            "\n",
            "Petuk: Hello to you too! \n",
            "\n",
            "You: I want pizza\n",
            "\n",
            "Petuk: Dominoes has delicious pizzas at an affordable price! They're menu starts from just 300tk. Facebook Page: https://www.facebook.com/dominospizzabn  \n",
            "\n",
            "You: Can I get dumplings too?\n",
            "\n",
            "Petuk: Yum Cha District is the place to go to for some delicious steamed/fried dumplings! Their Chinese cuisine has everything from noodles to calamari. Take a look at their menu here: https://www.facebook.com/YumChaDistrict  \n",
            "\n",
            "You: okay. bye!\n",
            "\n",
            "Petuk: Happy eating! \n",
            "\n"
          ]
        }
      ]
    },
    {
      "cell_type": "code",
      "metadata": {
        "id": "vO2lQPMMPNox"
      },
      "source": [
        ""
      ],
      "execution_count": null,
      "outputs": []
    },
    {
      "cell_type": "code",
      "source": [
        "ye\n"
      ],
      "metadata": {
        "id": "pzC2y8Y_MzyC"
      },
      "execution_count": null,
      "outputs": []
    }
  ]
}